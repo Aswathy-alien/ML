{
 "cells": [
  {
   "cell_type": "code",
   "execution_count": 1,
   "id": "03167918-e28e-4c7a-829e-9c948221b807",
   "metadata": {},
   "outputs": [],
   "source": [
    "import numpy as np"
   ]
  },
  {
   "cell_type": "code",
   "execution_count": 2,
   "id": "3979b4c7-cbc8-468e-a328-d3e2676f797c",
   "metadata": {},
   "outputs": [
    {
     "name": "stdout",
     "output_type": "stream",
     "text": [
      "[ 0  1  2  3  4  5  6  7  8  9 10 11 12 13 14 15 16 17 18 19 20 21 22 23\n",
      " 24 25 26 27 28 29 30 31 32 33 34 35 36 37 38 39 40 41 42 43 44 45 46 47\n",
      " 48 49 50 51 52 53 54 55 56 57 58 59 60 61 62 63 64 65 66 67 68 69 70 71\n",
      " 72 73 74 75 76 77 78 79 80 81]\n"
     ]
    }
   ],
   "source": [
    "SID_Lastdigits = 82 \n",
    "vector = np.arange(SID_Lastdigits)\n",
    "print(vector)"
   ]
  },
  {
   "cell_type": "code",
   "execution_count": 5,
   "id": "ad951295-c0d0-40cd-9ebc-7ad6350a896d",
   "metadata": {},
   "outputs": [],
   "source": [
    "matrix_2d = vector.reshape(1, -1)"
   ]
  },
  {
   "cell_type": "code",
   "execution_count": 6,
   "id": "07db6803-dc62-4005-9bf2-6371cce63cd9",
   "metadata": {},
   "outputs": [
    {
     "name": "stdout",
     "output_type": "stream",
     "text": [
      "[[ 0  1  2  3  4  5  6  7  8  9 10 11 12 13 14 15 16 17 18 19 20 21 22 23\n",
      "  24 25 26 27 28 29 30 31 32 33 34 35 36 37 38 39 40 41 42 43 44 45 46 47\n",
      "  48 49 50 51 52 53 54 55 56 57 58 59 60 61 62 63 64 65 66 67 68 69 70 71\n",
      "  72 73 74 75 76 77 78 79 80 81]]\n"
     ]
    }
   ],
   "source": [
    "print(matrix_2d)"
   ]
  },
  {
   "cell_type": "code",
   "execution_count": 7,
   "id": "71057d18-43cc-4011-9332-4ff3b46def1c",
   "metadata": {},
   "outputs": [
    {
     "name": "stdout",
     "output_type": "stream",
     "text": [
      "[[ 0  1  2  3  4  5  6  7  8  9 10 11 12 13 14 15 16 17 18 19 20 21 22 23\n",
      "  24 25 26 27 28 29 30 31 32 33 34 35 36 37 38 39 40 41 42 43 44 45 46 47\n",
      "  48 49 50 51 52 53 54 55 56 57 58 59 60 61 62 63 64 65 66 67 68 69 70 71\n",
      "  72 73 74 75 76 77 78 79 80 81]]\n"
     ]
    }
   ],
   "source": [
    "new_array = matrix_2d.copy()\n",
    "print(new_array)"
   ]
  },
  {
   "cell_type": "code",
   "execution_count": 8,
   "id": "64682942-9dd3-4f3a-8983-d50349442d34",
   "metadata": {},
   "outputs": [],
   "source": [
    "shape_value = new_array.shape"
   ]
  },
  {
   "cell_type": "code",
   "execution_count": 9,
   "id": "035c2d7a-ff2b-4bd9-a27e-9e4fa4fc1355",
   "metadata": {},
   "outputs": [
    {
     "data": {
      "text/plain": [
       "(1, 82)"
      ]
     },
     "execution_count": 9,
     "metadata": {},
     "output_type": "execute_result"
    }
   ],
   "source": [
    "shape_value"
   ]
  },
  {
   "cell_type": "code",
   "execution_count": null,
   "id": "0cb125ac-c538-4f02-934b-8d9a4b0fe885",
   "metadata": {},
   "outputs": [],
   "source": []
  }
 ],
 "metadata": {
  "kernelspec": {
   "display_name": "Python 3 (ipykernel)",
   "language": "python",
   "name": "python3"
  },
  "language_info": {
   "codemirror_mode": {
    "name": "ipython",
    "version": 3
   },
   "file_extension": ".py",
   "mimetype": "text/x-python",
   "name": "python",
   "nbconvert_exporter": "python",
   "pygments_lexer": "ipython3",
   "version": "3.12.2"
  }
 },
 "nbformat": 4,
 "nbformat_minor": 5
}
